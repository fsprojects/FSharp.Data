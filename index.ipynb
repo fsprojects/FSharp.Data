
{
 "cells": [
  {
   "cell_type": "markdown",
   "metadata": {},
   
   "source": [
    "# FSharp.Data: Data Access Made Simple\n",
    "\n",
    "The FSharp.Data package implements core functionality to\n",
    "access common data formats in your F# applications and scripts. It contains F# type\n",
    "providers for working with structured file formats (CSV, HTML, JSON and XML) and helpers for parsing\n",
    "CSV, HTML and JSON files and for sending HTTP requests.\n",
    "\n",
    "This library focuses on providing simple access to the structured documents\n",
    "and other data sources.\n",
    "\n",
    "FSharp.Data stems from [Types from data Making structured data first-class citizens in F#](http://tomasp.net/academic/papers/fsharp-data/) by Petricek, Syme and Guerra. This paper\n",
    "received a Distinguished Paper award at PLDI 2016 and was selected as one of three CACM Research\n",
    "Highlight in 2018. 🏆🏆🏆\n",
    "\n",
    "The package is available on \u003ca href=\"https://nuget.org/packages/FSharp.Data\"\u003eNuGet\u003c/a\u003e. [![NuGet Status](//img.shields.io/nuget/v/FSharp.Data.svg?style=flat)](https://www.nuget.org/packages/FSharp.Data/)\n",
    "\n",
    "## Type Providers\n",
    "\n"
   ]
  }
,
  {
   "cell_type": "code",
   "metadata": {
    "dotnet_interactive": {
     "language": "fsharp"
    },
    "polyglot_notebook": {
     "kernelName": "fsharp"
    }
   },
   "execution_count": null, "outputs": [],
   "source": [
    "\u003cdiv class=\"container-fluid\" style=\"margin:15px 0px 15px 0px;\"\u003e\n",
    "    \u003cdiv class=\"row-fluid\"\u003e\n",
    "        \u003cdiv class=\"span1\"\u003e\u003c/div\u003e\n",
    "        \u003cdiv class=\"span10\" id=\"anim-holder\"\u003e\n",
    "            \u003ca id=\"lnk\" href=\"images/json.gif\"\u003e\u003cimg id=\"anim\" src=\"images/json.gif\" /\u003e\u003c/a\u003e\n",
    "        \u003c/div\u003e\n",
    "        \u003cdiv class=\"span1\"\u003e\u003c/div\u003e\n",
    "    \u003c/div\u003e\n",
    "\u003c/div\u003e\n"
   ]
  }
,
  {
   "cell_type": "markdown",
   "metadata": {},
   
   "source": [
    "The FSharp.Data type providers for CSV, HTML, JSON and XML infer types from the structure of a sample\n",
    "document (or a document containing multiple samples). The structure is then used\n",
    "to provide easy to use type-safe access to documents that follow the same structure.\n",
    "\n",
    "* [CSV Type Provider](library/CsvProvider.html) - discusses the `CsvProvider\u003c..\u003e` type\n",
    "\n",
    "* [HTML Type Provider](library/HtmlProvider.html) - discusses the `HtmlProvider\u003c...\u003e` type\n",
    "\n",
    "* [JSON Type Provider](library/JsonProvider.html) - discusses the `JsonProvider\u003c..\u003e` type\n",
    "\n",
    "* [XML Type Provider](library/XmlProvider.html) - discusses the `XmlProvider\u003c..\u003e` type\n",
    "\n",
    "The package also contains a type provider for accessing data from\n",
    "[the WorldBank](library/WorldBank.html).\n",
    "\n",
    "## Data Access Tools\n",
    "\n",
    "The package contains functionality to simplify data access. In particular, it includes tools for HTTP web requests and\n",
    "CSV, HTML, and JSON parsers with simple dynamic API. For more information, see the\n",
    "following topics:\n",
    "\n",
    "* [HTTP Utilities](library/Http.html) - discusses the `Http` type that can be used\n",
    "to send HTTP web requests.\n",
    "\n",
    "* [CSV Parser](library/CsvFile.html) - introduces the CSV parser \n",
    "(without using the type provider)\n",
    "\n",
    "* [HTML Parser](library/HtmlParser.html) - introduces the HTML parser \n",
    "(without using the type provider)\n",
    "\n",
    "* [JSON Parser](library/JsonValue.html) - introduces the JSON parser \n",
    "(without using the type provider)\n",
    "\n",
    "## Tutorials\n",
    "\n",
    "The following tutorials contain additional examples that\n",
    "use multiple features together:\n",
    "\n",
    "* [Converting between JSON and XML](tutorials/JsonToXml.html) - implements two serialization \n",
    "functions that convert between the standard .NET `XElement` and the `JsonValue` from FSharp.Data.\n",
    "The tutorial demonstrates pattern matching on `JsonValue`.\n",
    "\n",
    "* [Anonymizing JSON](tutorials/JsonAnonymizer.html) - implements a function to anonymize a `JsonValue` from FSharp.Data.\n",
    "The tutorial demonstrates pattern matching on `JsonValue`.\n",
    "\n",
    "Below is a brief practical demonstration of using FSharp.Data:\n",
    "\n"
   ]
  }
,
  {
   "cell_type": "code",
   "metadata": {
    "dotnet_interactive": {
     "language": "fsharp"
    },
    "polyglot_notebook": {
     "kernelName": "fsharp"
    }
   },
   "execution_count": null, "outputs": [],
   "source": [
    "\u003cdiv style=\"padding-left:20px\"\u003e\u003ciframe src=\"https://channel9.msdn.com/posts/Understanding-the-World-with-F/player\" width=\"640\" height=\"360\" allowFullScreen frameBorder=\"0\"\u003e\u003c/iframe\u003e\u003c/div\u003e\n"
   ]
  }
,
  {
   "cell_type": "markdown",
   "metadata": {},
   
   "source": [
    "## Reference Documentation\n",
    "\n",
    "There\u0027s also [reference documentation](reference) available. Please note that everything under\n",
    "the `FSharp.Data.Runtime` namespace is not considered as part of the public API and can change without notice.\n",
    "\n",
    "## Contributing and license\n",
    "\n",
    "The library is available under Apache 2.0. For more information see the\n",
    "[License file](https://github.com/fsharp/FSharp.Data/blob/master/LICENSE.md) in the GitHub repository. In summary, this means that you can\n",
    "use the library for commercial purposes, fork it, and modify it as you wish. FSharp.Data is made possible by the volunteer work [of more than a dozen\n",
    "contributors](https://github.com/fsharp/FSharp.Data/graphs/contributors) and we\u0027re open to\n",
    "contributions from anyone. If you want to help out but don\u0027t know where to start, you\n",
    "can take one of the [Up-For-Grabs](https://github.com/fsharp/FSharp.Data/issues?labels=up-for-grabs\u0026state=open)\n",
    "issues, or help to improve the documentation.\n",
    "\n",
    "The project is hosted on [GitHub](https://github.com/fsharp/FSharp.Data) where you can [report issues](https://github.com/fsharp/FSharp.Data/issues), fork\n",
    "the project and submit pull requests. If you\u0027re adding new public API\u0027s, please also\n",
    "contribute [samples](https://github.com/fsprojects/FSharp.Data/tree/master/docs/) to the docs.\n",
    "\n"
   ]
  }
 ],
 "metadata": {
  "kernelspec": {
   "display_name": ".NET (F#)",
   "language": "F#",
   "name": ".net-fsharp"
  },
  "language_info": {
   "file_extension": ".fs",
   "mimetype": "text/x-fsharp",
   "name": "polyglot-notebook",
   "pygments_lexer": "fsharp"
  },
  "polyglot_notebook": {
   "kernelInfo": {
    "defaultKernelName": "fsharp",
    "items": [
     {
      "aliases": [],
      "languageName": "fsharp",
      "name": "fsharp"
     }
    ]
   }
  }
 },
 "nbformat": 4,
 "nbformat_minor": 2
}

