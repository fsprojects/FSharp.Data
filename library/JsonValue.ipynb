
{
 "cells": [
  {
   "cell_type": "markdown",
   "metadata": {},
   
   "source": [
    
   ]
  }
,
  {
   "cell_type": "code",
   "metadata": {
    "dotnet_interactive": {
     "language": "fsharp"
    },
    "polyglot_notebook": {
     "kernelName": "fsharp"
    }
   },
   "execution_count": null, "outputs": [],
   "source": [
    "#r \"nuget: FSharp.Data,6.6.0\"\n",
    "\n",
    "Formatter.SetPreferredMimeTypesFor(typeof\u003cobj\u003e, \"text/plain\")\n",
    "Formatter.Register(fun (x: obj) (writer: TextWriter) -\u003e fprintfn writer \"%120A\" x)\n",
    "#endif\n"
   ]
  }
,
  {
   "cell_type": "markdown",
   "metadata": {},
   
   "source": [
    "[![Binder](../img/badge-binder.svg)](https://mybinder.org/v2/gh/fsprojects/FSharp.Data/gh-pages?filepath=library/JsonValue.ipynb)\u0026emsp;\n",
    "[![Script](../img/badge-script.svg)](https://fsprojects.github.io/FSharp.Data//library/JsonValue.fsx)\u0026emsp;\n",
    "[![Notebook](../img/badge-notebook.svg)](https://fsprojects.github.io/FSharp.Data//library/JsonValue.ipynb)\n",
    "\n",
    "# JSON Parser\n",
    "\n",
    "The F# [JSON Type Provider](JsonProvider.html) is built on top of an efficient JSON parser written\n",
    "in F#.\n",
    "\n",
    "When working with well-defined JSON documents, it is easier to use the\n",
    "[type provider](JsonProvider.html), but in a more dynamic scenario or when writing\n",
    "quick and simple scripts, the parser might be a simpler option.\n",
    "\n",
    "## Loading JSON documents\n",
    "\n",
    "To load a sample JSON document, we first need to reference the `FSharp.Data` package.\n",
    "\n"
   ]
  }
,
  {
   "cell_type": "code",
   "metadata": {
    "dotnet_interactive": {
     "language": "fsharp"
    },
    "polyglot_notebook": {
     "kernelName": "fsharp"
    }
   },
   "execution_count": 2, "outputs": [],
   "source": [
    "open FSharp.Data\n"
   ]
  }
,
  {
   "cell_type": "markdown",
   "metadata": {},
   
   "source": [
    "The `FSharp.Data` namespace contains the [JsonValue](https://fsprojects.github.io/FSharp.Data/reference/fsharp-data-jsonvalue.html) type that can be used\n",
    "to parse strings formatted using JSON as follows:\n",
    "\n"
   ]
  }
,
  {
   "cell_type": "code",
   "metadata": {
    "dotnet_interactive": {
     "language": "fsharp"
    },
    "polyglot_notebook": {
     "kernelName": "fsharp"
    }
   },
   "execution_count": 3, "outputs": [
          {
           "data": {
            "text/plain": ["val info: JsonValue =",
"",
"  {",
"",
"  \"name\": \"Tomas\",",
"",
"  \"born\": 1985,",
"",
"  \"siblings\": [",
"",
"    \"Jan\",",
"",
"    \"Alexander\"",
"",
"  ]",
"",
"}"]
        },
           "execution_count": 3,
           "metadata": {},
           "output_type": "execute_result"
          }],
   "source": [
    "let info =\n",
    "    JsonValue.Parse(\n",
    "        \"\"\"\n",
    "    { \"name\": \"Tomas\", \"born\": 1985,\n",
    "      \"siblings\": [ \"Jan\", \"Alexander\" ] } \"\"\"\n",
    "    )\n"
   ]
  }
,
  {
   "cell_type": "markdown",
   "metadata": {},
   
   "source": [
    "The parsed value can be processed using pattern matching - the [JsonValue](https://fsprojects.github.io/FSharp.Data/reference/fsharp-data-jsonvalue.html) type\n",
    "is a discriminated union with cases such as `Record`, `Collection` and others that\n",
    "can be used to examine the structure.\n",
    "\n",
    "## Using JSON extensions\n",
    "\n",
    "We do not cover this technique in this introduction. Instead, we look at a number\n",
    "of extensions that become available after opening the [JsonExtensions](https://fsprojects.github.io/FSharp.Data/reference/fsharp-data-jsonextensionsmodule.html)\n",
    "module. Once opened, we can write:\n",
    "\n",
    "* `value.AsBoolean()` returns the value as boolean if it is either `true` or `false`.\n",
    "\n",
    "* `value.AsInteger()` returns the value as an integer if it is numeric and can be\n",
    "converted to an integer; `value.AsInteger64()`, `value.AsDecimal()` and\n",
    "`value.AsFloat()` behave similarly.\n",
    "\n",
    "* `value.AsString()` returns the value as a string.\n",
    "\n",
    "* `value.AsDateTime()` parses the string as a `DateTime` value using either the\n",
    "[ISO 8601](http://en.wikipedia.org/wiki/ISO_8601) format, or using the\n",
    "`\\/Date(...)\\/` JSON format containing number of milliseconds since 1/1/1970.\n",
    "\n",
    "* `value.AsDateTimeOffset()` parses the string as a `DateTimeOffset` value using either the\n",
    "[ISO 8601](http://en.wikipedia.org/wiki/ISO_8601) format, or using the\n",
    "`\\/Date(...[+/-]offset)\\/` JSON format containing number of milliseconds since 1/1/1970,\n",
    "[+/-]() the 4 digit offset. Example- `\\/Date(1231456+1000)\\/`.\n",
    "\n",
    "* `value.AsTimeSpan()` parses the string as a `TimeSpan` value.\n",
    "\n",
    "* `value.AsGuid()` parses the string as a `Guid` value.\n",
    "\n",
    "* `value?child` uses the dynamic operator to obtain a record member named `child`;\n",
    "alternatively, you can also use `value.GetProperty(child)` or an indexer\n",
    "`value.[child]`.\n",
    "\n",
    "* `value.TryGetProperty(child)` can be used to safely obtain a record member\n",
    "(if the member is missing or the value is not a record then, `TryGetProperty`\n",
    "returns `None`).\n",
    "\n",
    "* `[ for v in value -\u003e v ]` treats `value` as a collection and iterates over it;\n",
    "alternatively, it is possible to obtain all elements as an array using\n",
    "`value.AsArray()`.\n",
    "\n",
    "* `value.Properties()` returns a list of all properties of a record node.\n",
    "\n",
    "* `value.InnerText()` concatenates all text or text in an array\n",
    "(representing e.g. multi-line string).\n",
    "\n",
    "Methods that may need to parse a numeric value or date (such as `AsFloat` and\n",
    "`AsDateTime`) receive an optional culture parameter.\n",
    "\n",
    "The following example shows how to process the sample JSON value:\n",
    "\n"
   ]
  }
,
  {
   "cell_type": "code",
   "metadata": {
    "dotnet_interactive": {
     "language": "fsharp"
    },
    "polyglot_notebook": {
     "kernelName": "fsharp"
    }
   },
   "execution_count": 4, "outputs": [
          {
           "data": {
            "text/plain": ["Tomas (1985)",
"",
"Jan",
"",
"Alexander",
"",
"val n: JsonValue = \"Tomas\"",
"",
"val it: unit = ()"]
        },
           "execution_count": 4,
           "metadata": {},
           "output_type": "execute_result"
          }],
   "source": [
    "open FSharp.Data.JsonExtensions\n",
    "\n",
    "// Print name and birth year\n",
    "let n = info?name\n",
    "printfn \"%s (%d)\" (info?name.AsString()) (info?born.AsInteger())\n",
    "\n",
    "// Print names of all siblings\n",
    "for sib in info?siblings do\n",
    "    printfn \"%s\" (sib.AsString())\n"
   ]
  }
,
  {
   "cell_type": "markdown",
   "metadata": {},
   
   "source": [
    "Note that the [JsonValue](https://fsprojects.github.io/FSharp.Data/reference/fsharp-data-jsonvalue.html) type does not actually implement the `IEnumerable\u003c\u0027T\u003e`\n",
    "interface (meaning that it cannot be passed to `Seq.xyz` functions). It only has\n",
    "the `GetEnumerator` method, which makes it possible to use it in sequence expressions\n",
    "and with the `for` loop.\n",
    "\n",
    "## Parsing WorldBank response\n",
    "\n",
    "To look at a more complex example, consider a sample document\n",
    "[`data/WorldBank.json`](../data/WorldBank.json) which was obtained as a response to\n",
    "a WorldBank request (you can access the WorldBank data more conveniently using\n",
    "[a type provider](WorldBank.html)). The document looks as follows:\n",
    "\n",
    "    [lang=js]\n",
    "    [ { \"page\": 1, \"pages\": 1, \"total\": 53 },\n",
    "      [ { \"indicator\": {\"value\": \"Central government debt, total (% of GDP)\"},\n",
    "          \"country\": {\"id\":\"CZ\",\"value\":\"Czech Republic\"},\n",
    "          \"value\":null,\"decimal\":\"1\",\"date\":\"2000\"},\n",
    "        { \"indicator\": {\"value\": \"Central government debt, total (% of GDP)\"},\n",
    "          \"country\": {\"id\":\"CZ\",\"value\":\"Czech Republic\"},\n",
    "          \"value\":\"16.6567773464055\",\"decimal\":\"1\",\"date\":\"2010\"} ] ]\n",
    "\n",
    "The document is formed by an array that contains a record as the first element\n",
    "and a collection of data points as the second element. The following code\n",
    "reads the document and parses it:\n",
    "\n"
   ]
  }
,
  {
   "cell_type": "code",
   "metadata": {
    "dotnet_interactive": {
     "language": "fsharp"
    },
    "polyglot_notebook": {
     "kernelName": "fsharp"
    }
   },
   "execution_count": 5, "outputs": [],
   "source": [
    "let value = JsonValue.Load(__SOURCE_DIRECTORY__ + \"../../data/WorldBank.json\")\n"
   ]
  }
,
  {
   "cell_type": "markdown",
   "metadata": {},
   
   "source": [
    "Note that we can also load the data directly from the web, and there\u0027s an\n",
    "asynchronous version available too:\n",
    "\n"
   ]
  }
,
  {
   "cell_type": "code",
   "metadata": {
    "dotnet_interactive": {
     "language": "fsharp"
    },
    "polyglot_notebook": {
     "kernelName": "fsharp"
    }
   },
   "execution_count": 6, "outputs": [
          {
           "data": {
            "text/plain": ["val wbReq: string =",
"",
"  \"https://api.worldbank.org/country/cz/indicator/GC.DOD.TOTL.GD\"+[15 chars]",
"",
"val valueAsync: Async\u003cJsonValue\u003e"]
        },
           "execution_count": 6,
           "metadata": {},
           "output_type": "execute_result"
          }],
   "source": [
    "let wbReq =\n",
    "    \"https://api.worldbank.org/country/cz/indicator/\"\n",
    "    + \"GC.DOD.TOTL.GD.ZS?format=json\"\n",
    "\n",
    "let valueAsync = JsonValue.AsyncLoad(wbReq)\n"
   ]
  }
,
  {
   "cell_type": "markdown",
   "metadata": {},
   
   "source": [
    "To split the top-level array into the first record (with overall information)\n",
    "and the collection of data points, we use pattern matching and match the `value`\n",
    "against the `JsonValue.Array` constructor:\n",
    "\n"
   ]
  }
,
  {
   "cell_type": "code",
   "metadata": {
    "dotnet_interactive": {
     "language": "fsharp"
    },
    "polyglot_notebook": {
     "kernelName": "fsharp"
    }
   },
   "execution_count": 7, "outputs": [
          {
           "data": {
            "text/plain": ["Showing page 1 of 1. Total records 53",
"",
"2010: 35.142297",
"",
"2009: 31.034880",
"",
"2008: 25.475164",
"",
"2007: 24.193320",
"",
"2006: 23.708055",
"",
"2005: 22.033462",
"",
"2004: 20.108379",
"",
"2003: 18.267725",
"",
"2002: 15.425565",
"",
"2001: 14.874434",
"",
"2000: 13.218869",
"",
"1999: 11.356696",
"",
"1998: 10.178780",
"",
"1997: 10.153566",
"",
"1996: 10.520301",
"",
"1995: 12.707834",
"",
"1994: 14.781808",
"",
"1993: 16.656777",
"",
"val it: unit = ()"]
        },
           "execution_count": 7,
           "metadata": {},
           "output_type": "execute_result"
          }],
   "source": [
    "match value with\n",
    "| JsonValue.Array [| info; data |] -\u003e\n",
    "    // Print overall information\n",
    "    let page, pages, total = info?page, info?pages, info?total\n",
    "    printfn \"Showing page %d of %d. Total records %d\" (page.AsInteger()) (pages.AsInteger()) (total.AsInteger())\n",
    "\n",
    "    // Print every non-null data point\n",
    "    for record in data do\n",
    "        if record?value \u003c\u003e JsonValue.Null then\n",
    "            printfn \"%d: %f\" (record?date.AsInteger()) (record?value.AsFloat())\n",
    "| _ -\u003e printfn \"failed\"\n"
   ]
  }
,
  {
   "cell_type": "markdown",
   "metadata": {},
   
   "source": [
    "The `value` property of a data point is not always available - as demonstrated\n",
    "above, the value may be `null`. In that case, we want to skip the data point.\n",
    "To check whether the property is `null` we simply compare it with `JsonValue.Null`.\n",
    "\n",
    "The `date` values will be parsed as `DateTimeOffset` if there is an offset present.\n",
    "However, for a mixed collection of `DateTime` (that is, without the offset) and\n",
    "`DateTimeOffset` values, the type of the collection will be collection of `DateTime`\n",
    "after parsing. Also note that the `date` and `value` properties are formatted as strings\n",
    "in the source file (e.g. `\"1990\"`) instead of numbers (e.g. `1990`). When you try\n",
    "accessing the value as an integer or float, the [JsonValue](https://fsprojects.github.io/FSharp.Data/reference/fsharp-data-jsonvalue.html) automatically parses\n",
    "the string into the desired format. In general, the API attempts to be as tolerant\n",
    "as possible when parsing the file.\n",
    "\n",
    "## Related articles\n",
    "\n",
    "* [JsonValue](https://fsprojects.github.io/FSharp.Data/reference/fsharp-data-jsonvalue.html)\n",
    "\n",
    "* [JSON Type Provider](JsonProvider.html) - discusses a F# type provider\n",
    "that provides type-safe access to JSON data\n",
    "\n",
    "* [WorldBank Provider](WorldBank.html) - the WorldBank type provider\n",
    "can be used to easily access data from the WorldBank\n",
    "\n",
    "* API Reference: [JsonValue](https://fsprojects.github.io/FSharp.Data/reference/fsharp-data-jsonvalue.html)\n",
    "\n",
    "* API Reference: [JsonExtensions](https://fsprojects.github.io/FSharp.Data/reference/fsharp-data-jsonextensions.html) type\n",
    "\n",
    "* API Reference: [JsonExtensions](https://fsprojects.github.io/FSharp.Data/reference/fsharp-data-jsonextensionsmodule.html) module\n",
    "\n"
   ]
  }
 ],
 "metadata": {
  "kernelspec": {
   "display_name": ".NET (F#)",
   "language": "F#",
   "name": ".net-fsharp"
  },
  "language_info": {
   "file_extension": ".fs",
   "mimetype": "text/x-fsharp",
   "name": "polyglot-notebook",
   "pygments_lexer": "fsharp"
  },
  "polyglot_notebook": {
   "kernelInfo": {
    "defaultKernelName": "fsharp",
    "items": [
     {
      "aliases": [],
      "languageName": "fsharp",
      "name": "fsharp"
     }
    ]
   }
  }
 },
 "nbformat": 4,
 "nbformat_minor": 2
}

